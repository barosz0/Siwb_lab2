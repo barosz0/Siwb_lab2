{
 "cells": [
  {
   "cell_type": "code",
   "execution_count": 36,
   "metadata": {},
   "outputs": [],
   "source": [
    "import csv\n",
    "\n",
    "# Inicjalizacja dwóch pustych list na dane\n",
    "data = []\n",
    "PROTEIN = \"HNRNPC\" #\"HNRNPA2B1\" #\n",
    "\n",
    "\n",
    "\n",
    "for i in range(69):\n",
    "    if PROTEIN == \"HNRNPA2B1\":\n",
    "        file_name = \"hnrnpa2b1\"\n",
    "    else:\n",
    "        file_name = \"fshape\"\n",
    "    file_path = f\"{PROTEIN}/{PROTEIN.lower()}_binding_sites_fshape/{file_name}_{i+1}.txt\"\n",
    "\n",
    "    fshapes = []\n",
    "    names = []\n",
    "    \n",
    "    with open(file_path, \"r\") as file:\n",
    "        # Użyj modułu csv do odczytania danych oddzielonych tabulatorami\n",
    "        reader = csv.reader(file, delimiter='\\t')\n",
    "        for row in reader:\n",
    "            # Dodaj pierwszy element każdego wiersza do listy column1_data\n",
    "            fshapes.append(row[0])\n",
    "            # Dodaj drugi element każdego wiersza do listy column2_data\n",
    "            names.append(row[1])\n",
    "    \n",
    "    data.append((names,fshapes))\n",
    "        "
   ]
  },
  {
   "cell_type": "code",
   "execution_count": 37,
   "metadata": {},
   "outputs": [],
   "source": [
    "# wczytanie expected pattern\n",
    "expected_pattern = [[],[]]\n",
    "\n",
    "with open(f\"{PROTEIN}/{PROTEIN}_expected_pattern.txt\", \"r\") as file:\n",
    "    reader = csv.reader(file, delimiter='\\t')\n",
    "    for row in reader:\n",
    "        expected_pattern[1].append(row[0])\n",
    "        expected_pattern[0].append(row[1])\n",
    "    expected_pattern[0] = tuple(expected_pattern[0])\n"
   ]
  },
  {
   "cell_type": "code",
   "execution_count": 38,
   "metadata": {},
   "outputs": [],
   "source": [
    "def check_next(index, names, fshapes, n):\n",
    "    text, value = [], []\n",
    "    for i in range(index, index + n):\n",
    "        if fshapes[i] == \"NA\":\n",
    "            return None\n",
    "        text.append(names[i])\n",
    "        value.append(float(fshapes[i]))\n",
    "    if max(value) > 1:\n",
    "        return tuple(text),value\n",
    "    return None\n"
   ]
  },
  {
   "cell_type": "code",
   "execution_count": 39,
   "metadata": {},
   "outputs": [],
   "source": [
    "def find(data, n):\n",
    "    # dup = 0\n",
    "    potential = []\n",
    "\n",
    "    for d in data:\n",
    "        names,fshapes = d\n",
    "        for index in range(len(names)):\n",
    "            \n",
    "            v = check_next(index,names,fshapes, n)\n",
    "            if not v is None:\n",
    "                text, value = v\n",
    "                # if text in potential.keys(): dup+=1\n",
    "                # potential[text] = value\n",
    "                potential.append(v)\n",
    "    return potential"
   ]
  },
  {
   "cell_type": "code",
   "execution_count": 40,
   "metadata": {},
   "outputs": [],
   "source": [
    "n = len(expected_pattern[0])\n",
    "data_n0 = find(data,n)\n",
    "data_n1 = find(data,n+1)\n",
    "data_n2 = find(data,n+2)"
   ]
  },
  {
   "cell_type": "code",
   "execution_count": 41,
   "metadata": {},
   "outputs": [
    {
     "name": "stdout",
     "output_type": "stream",
     "text": [
      "Dla n = 6 znaleziono 667\n",
      "Dla n = 7 znaleziono 716\n",
      "Dla n = 8 znaleziono 757\n"
     ]
    }
   ],
   "source": [
    "print(f\"Dla n = {n} znaleziono {len(data_n0)}\")\n",
    "print(f\"Dla n = {n+1} znaleziono {len(data_n1)}\")\n",
    "print(f\"Dla n = {n+2} znaleziono {len(data_n2)}\")"
   ]
  }
 ],
 "metadata": {
  "kernelspec": {
   "display_name": "Python 3",
   "language": "python",
   "name": "python3"
  },
  "language_info": {
   "codemirror_mode": {
    "name": "ipython",
    "version": 3
   },
   "file_extension": ".py",
   "mimetype": "text/x-python",
   "name": "python",
   "nbconvert_exporter": "python",
   "pygments_lexer": "ipython3",
   "version": "3.9.13"
  }
 },
 "nbformat": 4,
 "nbformat_minor": 2
}
